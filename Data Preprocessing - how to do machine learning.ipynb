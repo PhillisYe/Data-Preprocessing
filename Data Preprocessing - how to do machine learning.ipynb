{
 "cells": [
  {
   "cell_type": "markdown",
   "id": "coastal-profession",
   "metadata": {},
   "source": [
    "## COMPSCI 762 Assignment 2"
   ]
  },
  {
   "cell_type": "code",
   "execution_count": 1,
   "id": "underlying-intermediate",
   "metadata": {},
   "outputs": [],
   "source": [
    "import os\n",
    "\n",
    "import numpy as np\n",
    "import pandas as pd\n",
    "from pandas import DataFrame\n",
    "from sklearn import datasets\n",
    "from sklearn import tree\n",
    "from sklearn.tree import DecisionTreeClassifier\n",
    "from sklearn.ensemble import RandomForestClassifier\n",
    "from sklearn.experimental import enable_iterative_imputer\n",
    "from sklearn.impute import IterativeImputer\n",
    "from sklearn.model_selection import train_test_split\n",
    "from sklearn.model_selection import GridSearchCV\n",
    "from sklearn.feature_selection import SelectKBest, f_classif\n",
    "\n",
    "from scipy.stats import pearsonr\n",
    "from autorank import autorank, create_report, plot_stats, latex_table"
   ]
  },
  {
   "cell_type": "markdown",
   "id": "brilliant-helen",
   "metadata": {},
   "source": [
    "## Task 1"
   ]
  },
  {
   "cell_type": "markdown",
   "id": "physical-height",
   "metadata": {},
   "source": [
    "#### Coding"
   ]
  },
  {
   "cell_type": "code",
   "execution_count": 2,
   "id": "adjustable-relay",
   "metadata": {},
   "outputs": [
    {
     "name": "stdout",
     "output_type": "stream",
     "text": [
      "(1000, 100)\n",
      "         0         1         2         3         4         5         6   \\\n",
      "0       NaN -0.176595 -4.126644 -2.390884 -1.366659 -0.460177  1.521421   \n",
      "1  0.267386       NaN -1.820798  1.540020  1.656770  0.447912  6.484100   \n",
      "2  2.946515 -1.594067       NaN  0.403844 -1.733342  0.274193  2.960081   \n",
      "3 -4.581082 -0.001274  1.197022       NaN -0.416290 -1.941236  0.290991   \n",
      "4 -2.123360 -0.266587  1.781999 -0.039342       NaN  0.895856  3.756880   \n",
      "5  6.513298  0.601715 -0.898230  5.975793  0.930283       NaN  7.071059   \n",
      "6  1.011204 -1.530166 -2.803067 -8.704202 -4.348667  0.136529       NaN   \n",
      "7 -0.677415 -3.604567  6.070001 -2.669360 -2.099381 -0.151524  1.408160   \n",
      "8 -8.645755  1.398383  1.268300 -4.617768 -1.832807 -0.509382 -3.042679   \n",
      "9  2.099264  0.008204  4.042282  1.374465 -0.358134  0.183255  1.347493   \n",
      "\n",
      "         7         8         9   ...        90        91        92        93  \\\n",
      "0  5.328470 -2.919639 -6.216557  ... -1.919015 -1.603442 -0.867395 -1.825951   \n",
      "1  2.356129 -1.129611  3.195601  ...  1.394421 -1.872976 -0.382098 -1.980864   \n",
      "2  0.326221  0.393324  0.229915  ... -0.290845 -0.076589 -4.660688 -1.652196   \n",
      "3  0.507716 -0.397205  4.399152  ...  1.046033 -4.498888  7.150844  0.722794   \n",
      "4 -4.583167  1.652762  7.673453  ...  1.371734  4.458045  3.576609 -1.538929   \n",
      "5  5.821025  1.400486 -0.521541  ... -4.728777  6.100226 -9.447939 -7.017969   \n",
      "6  2.603401 -2.612014 -3.189257  ... -0.358210 -1.468322 -1.352629  0.827947   \n",
      "7       NaN  1.366338  4.458647  ...  0.391203 -1.180345  1.886392 -0.145597   \n",
      "8 -1.234398       NaN  2.850453  ...  1.732945  1.030467  7.715294  2.554476   \n",
      "9 -8.781119  1.546814       NaN  ...  2.455224  7.423045 -6.222063  0.269739   \n",
      "\n",
      "         94        95        96         97        98        99  \n",
      "0 -2.390884  4.107535  3.817897  -0.823303 -5.271267  2.353398  \n",
      "1  1.540020 -1.267888 -1.843256   1.105676 -0.344550 -6.653773  \n",
      "2  0.403844 -4.317565 -2.506476   3.422634 -0.272146 -3.345401  \n",
      "3 -2.944502 -0.081950  0.186089  -7.066950  2.488842 -2.770303  \n",
      "4 -0.039342 -2.613114 -3.117484  -2.125028  0.143158 -8.249535  \n",
      "5  5.975793 -4.603943 -8.217203   6.474907 -6.293464 -7.641591  \n",
      "6 -8.704202 -5.913128  3.983109  -4.428542  2.604915  0.252505  \n",
      "7 -2.669360 -1.011124 -1.989399  -2.135560 -0.637579 -3.237367  \n",
      "8 -4.617768 -3.166491  3.193870 -10.494626  2.342994 -0.242371  \n",
      "9  1.374465 -5.360928 -1.194516   6.407514 -0.372416 -2.584870  \n",
      "\n",
      "[10 rows x 100 columns]\n"
     ]
    }
   ],
   "source": [
    "random_state = 1234\n",
    "np.random.seed(random_state)\n",
    "\n",
    "# set the path for the dataset\n",
    "PATH_DATA = os.path.join('data', 'data_A2.csv')\n",
    "\n",
    "# read data\n",
    "X = pd.read_csv(PATH_DATA, sep=',', header=None)\n",
    "print(X.shape)\n",
    "print(X.head(10))"
   ]
  },
  {
   "cell_type": "code",
   "execution_count": 3,
   "id": "enabling-squad",
   "metadata": {},
   "outputs": [
    {
     "name": "stdout",
     "output_type": "stream",
     "text": [
      "     0\n",
      "0  1.0\n",
      "1  0.0\n",
      "2  0.0\n",
      "3  0.0\n",
      "4  1.0\n",
      "(1000, 1)\n"
     ]
    }
   ],
   "source": [
    "# set the path for the label dataset\n",
    "PATH_LABEL = os.path.join('data', 'labels_A2.csv')\n",
    "\n",
    "# read label data \n",
    "y = pd.read_csv(PATH_LABEL, sep=',', header=None)\n",
    "\n",
    "print(y.head())\n",
    "print(y.shape)"
   ]
  },
  {
   "cell_type": "code",
   "execution_count": 4,
   "id": "honest-ranking",
   "metadata": {},
   "outputs": [
    {
     "name": "stdout",
     "output_type": "stream",
     "text": [
      "           0         1         2         3         4         5         6   \\\n",
      "0   -1.136033 -0.176595 -4.126644 -2.390884 -1.366659 -0.460177  1.521421   \n",
      "1    0.267386  0.013437 -1.820798  1.540020  1.656770  0.447912  6.484100   \n",
      "2    2.946515 -1.594067  1.858665  0.403844 -1.733342  0.274193  2.960081   \n",
      "3   -4.581082 -0.001274  1.197022 -2.944502 -0.416290 -1.941236  0.290991   \n",
      "4   -2.123360 -0.266587  1.781999 -0.039342  2.670569  0.895856  3.756880   \n",
      "..        ...       ...       ...       ...       ...       ...       ...   \n",
      "995  0.318539  0.539550 -0.144831  1.402720  2.018928 -0.033435 -0.763604   \n",
      "996 -5.843779  0.341371 -0.612153 -0.209380 -1.398469  0.550250 -1.623379   \n",
      "997  3.406411  0.321762  0.286231  2.116516 -1.548059 -1.626494  3.787104   \n",
      "998 -2.167186  0.627939 -0.993588  0.902711 -1.024744 -0.416702  3.966772   \n",
      "999 -3.621659 -1.628561 -1.991653  3.852027  1.636139 -0.283941  0.050966   \n",
      "\n",
      "           7         8         9   ...        90        91        92  \\\n",
      "0    5.328470 -2.919639 -6.216557  ... -1.919015 -1.603442 -0.867395   \n",
      "1    2.356129 -1.129611  3.195601  ...  1.394421 -1.872976 -0.382098   \n",
      "2    0.326221  0.393324  0.229915  ... -0.290845 -0.076589 -4.660688   \n",
      "3    0.507716 -0.397205  4.399152  ...  1.046033 -4.498888  7.150844   \n",
      "4   -4.583167  1.652762  7.673453  ...  1.371734  4.458045  3.576609   \n",
      "..        ...       ...       ...  ...       ...       ...       ...   \n",
      "995 -4.475018  1.098775  2.187650  ...  1.163138  1.427695  0.753621   \n",
      "996 -0.924526 -2.274803 -3.090194  ...  1.998539 -0.695267  1.238735   \n",
      "997  2.476920 -2.113878 -7.427621  ... -2.762413 -2.860776 -6.281361   \n",
      "998  6.068817 -2.394340 -1.352014  ... -0.981470 -2.427518 -0.065137   \n",
      "999 -1.044173 -2.044518 -4.157472  ...  0.518181 -0.485885  0.153331   \n",
      "\n",
      "           93        94        95        96        97        98        99  \n",
      "0   -1.825951 -2.390884  4.107535  3.817897 -0.823303 -5.271267  2.353398  \n",
      "1   -1.980864  1.540020 -1.267888 -1.843256  1.105676 -0.344550 -6.653773  \n",
      "2   -1.652196  0.403844 -4.317565 -2.506476  3.422634 -0.272146 -3.345401  \n",
      "3    0.722794 -2.944502 -0.081950  0.186089 -7.066950  2.488842 -2.770303  \n",
      "4   -1.538929 -0.039342 -2.613114 -3.117484 -2.125028  0.143158 -8.249535  \n",
      "..        ...       ...       ...       ...       ...       ...       ...  \n",
      "995  0.467884  1.402720 -3.418604 -2.008609  0.279494  4.702728 -2.272688  \n",
      "996  1.192938 -0.209380 -0.972033  3.439486 -2.624541  0.013214  1.422758  \n",
      "997 -3.061634  2.116516  6.246774 -0.847790  4.345268 -8.109827  2.108502  \n",
      "998 -1.653230  0.902711  1.644251 -0.421722 -3.231510 -4.456529 -1.626739  \n",
      "999 -0.867391  3.852027  3.559970  0.754794  0.072521 -2.605920  0.836242  \n",
      "\n",
      "[1000 rows x 100 columns]\n"
     ]
    }
   ],
   "source": [
    "# Use the most probable value\n",
    "imputer = IterativeImputer(missing_values=np.nan, max_iter=50, initial_strategy='median', random_state=random_state)\n",
    "imputer.fit(X)\n",
    "X_filled = imputer.transform(X)\n",
    "X_filled_df = DataFrame(X_filled)\n",
    "print(X_filled_df)"
   ]
  },
  {
   "cell_type": "markdown",
   "id": "abandoned-palestine",
   "metadata": {},
   "source": [
    "#### Paragraph\n",
    "\n",
    "There are 1000 rows and 100 columns in the X dataset where the size of the data is relatively small. After looking at the top 10 rows in the X dataset, I noticed the data are numerical values, and there is at least one missing value in every row and every column. The data is missing at random. Depending on this information, I choose to fill the missing data by using the most probable value imputation strategy. This strategy initially fills the missing value with *`median`* value and then training multiple default `BayesianRidge` regression values and using each attribute with missing value as output and training multiple models using the rest of the features. Training maximum 50 iterations to it convert. As the size of the dataset is not large, this imputation does not take too much time."
   ]
  },
  {
   "cell_type": "markdown",
   "id": "certain-bunny",
   "metadata": {},
   "source": [
    "## Task 2"
   ]
  },
  {
   "cell_type": "markdown",
   "id": "piano-cooper",
   "metadata": {},
   "source": [
    "#### Coding"
   ]
  },
  {
   "cell_type": "code",
   "execution_count": 5,
   "id": "creative-escape",
   "metadata": {},
   "outputs": [
    {
     "name": "stdout",
     "output_type": "stream",
     "text": [
      "[0, 8, 18, 46, 60, 65, 69, 77, 78, 97]\n",
      "[[-1.13603271 -2.91963929 -0.21530877 ... -0.21530877 -0.72289957\n",
      "  -0.82330291]\n",
      " [ 0.26738568 -1.12961117 -2.24550537 ... -2.24550537  2.49297253\n",
      "   1.10567555]\n",
      " [ 2.94651515  0.39332371 -3.41648958 ... -3.41648958 -0.24785755\n",
      "   3.42263394]\n",
      " ...\n",
      " [ 3.40641099 -2.11387845 -6.26495036 ... -6.26495036  1.43568029\n",
      "   4.34526771]\n",
      " [-2.16718563 -2.39433995  1.67715653 ...  1.67715653 -1.98683152\n",
      "  -3.23150977]\n",
      " [-3.62165864 -2.0445179   3.11045461 ...  3.11045461  2.61232767\n",
      "   0.07252107]]\n"
     ]
    }
   ],
   "source": [
    "def test_selection(sel):\n",
    "    sel.fit(X_filled, np.ravel(y))\n",
    "    print(X_filled_df.columns[sel.get_support()].to_list())\n",
    "    \n",
    "test_selection(SelectKBest(f_classif,k=10))\n",
    "\n",
    "X_clean = SelectKBest(f_classif, k = 10).fit_transform(X_filled, np.ravel(y))\n",
    "print(X_clean)"
   ]
  },
  {
   "cell_type": "markdown",
   "id": "scenic-mathematics",
   "metadata": {},
   "source": [
    "#### Paragraph\n",
    "\n",
    "I found the 10 most important features of the cleaned dataset using the univariate feature selection, which selects the best features based on univariate statistical tests. By looking at the values in the label *y*, there are only two values, 0 and 1, which means it is a discrete class label. Therefore, it is a binary classification task. `f_classif` is a scoring function that calculates ANOVA F-value between label and features for classification tasks and the `SelectKBest` function with hyper-parameter k=10, which removes all the other features but the highest top 10 scoring features. I think these top 10 scoring features are important because the F-value for each feature is calculated by the mean divide by the variance. The higher the F-value means, the less the label values are overlapping, which is easier to build a good model. Therefore, by selecting the 10 best features, it means these are the 10 features that are most important to build a good model."
   ]
  },
  {
   "cell_type": "markdown",
   "id": "thermal-tobago",
   "metadata": {},
   "source": [
    "## Task 3"
   ]
  },
  {
   "cell_type": "markdown",
   "id": "primary-senate",
   "metadata": {},
   "source": [
    "#### Coding"
   ]
  },
  {
   "cell_type": "code",
   "execution_count": 6,
   "id": "unlimited-picnic",
   "metadata": {},
   "outputs": [],
   "source": [
    "scores_list1 = []\n",
    "\n",
    "params = [{\n",
    "    'max_depth': np.arange(2, 100), \n",
    "    #'criterion': ['entropy']\n",
    "}]\n",
    "\n",
    "# set 100 random seeds\n",
    "seeds = np.random.randint(1000,9999,100)\n",
    "\n",
    "for iteration in range(100):\n",
    "    X_train, X_test, y_train, y_test = train_test_split(X_clean, np.ravel(y), test_size = 0.2, random_state=seeds[iteration])\n",
    "    score_list = []\n",
    "    \n",
    "    # Random Forest\n",
    "    model1 = RandomForestClassifier()\n",
    "    score1 = model1.fit(X_train, y_train).score(X_test, y_test)\n",
    "    score_list.append(score1)\n",
    "\n",
    "    # Unpruned Decision Tree\n",
    "    model2 = DecisionTreeClassifier()\n",
    "    score2 = model2.fit(X_train, y_train).score(X_test, y_test)\n",
    "    score_list.append(score2)\n",
    "\n",
    "    # Pruned Decision Tree\n",
    "    #find the best max_depth by using GridSearchCV\n",
    "    grid_search = GridSearchCV(model2, params, cv = 5)\n",
    "    grid_search.fit(X_train, y_train)\n",
    "    model3 = grid_search.best_estimator_\n",
    "    score3 = model3.fit(X_train, y_train).score(X_test, y_test)\n",
    "    score_list.append(score3)\n",
    "\n",
    "    # Decision Stump\n",
    "    model4 = DecisionTreeClassifier(max_depth=1)\n",
    "    score4 = model4.fit(X_train, y_train).score(X_test, y_test)\n",
    "    score_list.append(score4)\n",
    "\n",
    "    scores_list1.append(score_list)"
   ]
  },
  {
   "cell_type": "code",
   "execution_count": 7,
   "id": "declared-spine",
   "metadata": {},
   "outputs": [
    {
     "name": "stdout",
     "output_type": "stream",
     "text": [
      "RankResult(rankdf=\n",
      "                 meanrank     mean       std  ci_lower  ci_upper effect_size  \\\n",
      "Randomforest        1.250  0.66930  0.030699  0.663666  0.674934         0.0   \n",
      "Pruned DT           2.140  0.63875  0.028984  0.633116  0.644384    1.023313   \n",
      "Unpruned DT         3.185  0.60505  0.031555  0.599416  0.610684    2.063933   \n",
      "Decision Stumps     3.425  0.59455  0.032186  0.588916  0.600184    2.376707   \n",
      "\n",
      "                  magnitude  \n",
      "Randomforest     negligible  \n",
      "Pruned DT             large  \n",
      "Unpruned DT           large  \n",
      "Decision Stumps       large  \n",
      "pvalue=7.096463862525304e-66\n",
      "cd=None\n",
      "omnibus=anova\n",
      "posthoc=tukeyhsd\n",
      "all_normal=True\n",
      "pvals_shapiro=[0.2686068117618561, 0.06844109296798706, 0.7191048860549927, 0.03483361378312111]\n",
      "homoscedastic=True\n",
      "pval_homogeneity=0.7513574038988919\n",
      "homogeneity_test=bartlett\n",
      "alpha=0.05\n",
      "alpha_normality=0.0125\n",
      "num_samples=100\n",
      "posterior_matrix=\n",
      "None\n",
      "decision_matrix=\n",
      "None\n",
      "rope=None\n",
      "rope_mode=None\n",
      "effect_size=cohen_d)\n"
     ]
    },
    {
     "name": "stderr",
     "output_type": "stream",
     "text": [
      "/Users/yezi/opt/anaconda3/envs/venv/lib/python3.9/site-packages/statsmodels/sandbox/stats/multicomp.py:775: UserWarning: FixedFormatter should only be used together with FixedLocator\n",
      "  ax1.set_yticklabels(np.insert(self.groupsunique.astype(str), 0, ''))\n"
     ]
    },
    {
     "data": {
      "text/plain": [
       "<AxesSubplot:title={'center':'95.0% Confidence Intervals of the Mean'}>"
      ]
     },
     "execution_count": 7,
     "metadata": {},
     "output_type": "execute_result"
    },
    {
     "data": {
      "image/png": "[encoded data removed]",
      "text/plain": [
       "<Figure size 432x288 with 1 Axes>"
      ]
     },
     "metadata": {},
     "output_type": "display_data"
    }
   ],
   "source": [
    "# convert the score list to a dataframe\n",
    "df1 = DataFrame(scores_list1,columns=['Randomforest', 'Unpruned DT', 'Pruned DT', 'Decision Stumps'])\n",
    "\n",
    "# using autorank to compare the algorithms\n",
    "result = autorank(df1)\n",
    "print(result)\n",
    "plot_stats(result)"
   ]
  },
  {
   "cell_type": "markdown",
   "id": "ultimate-hypothetical",
   "metadata": {},
   "source": [
    "#### Paragraph\n",
    "\n",
    "The plot shows 95.0% confidence intervals of the mean for the four algorithms. An algorithm is considered to be statistically significantly better than others if the confidence intervals are not overlapping. Therefore, the **Random Forest** is statistically significantly better than the other three algorithms, and the **Pruned Decision Tree** is statistically significantly better than *Unpruned Decision Tree* and *Decision Stumps*. **Unpruned Decision Tree** and **Decision Stumps** are the worst methods for this clean dataset. **Unpruned Decision Tree** is a decision tree with the full size, and some parts of the tree do not provide power to classify instances, while **Pruned Decision Tree** pruned the unpowerful part of the tree. Therefore, the unpruned decision tree leads to some likelihoods of overfitting the training data and results in a low accuracy score on the test set. **Decision Stumps** is an algorithm that builds a prediction model based only on the value of a single input feature that fits the training data poor and easily leads to an underfitting model with high bias and low variance and results in a low accuracy score on the test set."
   ]
  },
  {
   "cell_type": "markdown",
   "id": "chemical-camcorder",
   "metadata": {},
   "source": [
    "## Task 4"
   ]
  },
  {
   "cell_type": "markdown",
   "id": "responsible-state",
   "metadata": {},
   "source": [
    "#### Coding"
   ]
  },
  {
   "cell_type": "code",
   "execution_count": 8,
   "id": "exceptional-interval",
   "metadata": {},
   "outputs": [],
   "source": [
    "# additive normal noise\n",
    "noise = np.random.normal(0, 0.2, np.shape(X_clean))\n",
    "# add 20% normal additive noise to the features\n",
    "X_noise = X_clean + np.multiply(noise, np.average(X_clean, axis = 0))\n",
    "\n",
    "scores_list2 = []\n",
    "\n",
    "params = [{\n",
    "    'max_depth': np.arange(2, 100), \n",
    "    #'criterion': ['entropy']\n",
    "}]\n",
    "\n",
    "for iteration in range(100):\n",
    "    X_train, X_test, y_train, y_test = train_test_split(X_noise, np.ravel(y), test_size = 0.2, random_state=seeds[iteration])\n",
    "    score_list = []\n",
    "    \n",
    "    # Random Forest\n",
    "    model1 = RandomForestClassifier()\n",
    "    score1 = model1.fit(X_train, y_train).score(X_test, y_test)\n",
    "    score_list.append(score1)\n",
    "\n",
    "    # Unpruned Decision Tree\n",
    "    model2 = DecisionTreeClassifier()\n",
    "    score2 = model2.fit(X_train, y_train).score(X_test, y_test)\n",
    "    score_list.append(score2)\n",
    "\n",
    "    # Pruned Decision Tree\n",
    "    #find the best max_depth by using GridSearchCV\n",
    "    grid_search = GridSearchCV(model2, params, cv = 5)\n",
    "    grid_search.fit(X_train, y_train)\n",
    "    model3 = grid_search.best_estimator_\n",
    "    score3 = model3.fit(X_train, y_train).score(X_test, y_test)\n",
    "    score_list.append(score3)\n",
    "\n",
    "    # Decision Stump\n",
    "    model4 = DecisionTreeClassifier(max_depth=1)\n",
    "    score4 = model4.fit(X_train, y_train).score(X_test, y_test)\n",
    "    score_list.append(score4)\n",
    "\n",
    "    scores_list2.append(score_list)"
   ]
  },
  {
   "cell_type": "code",
   "execution_count": 9,
   "id": "intense-tenant",
   "metadata": {},
   "outputs": [
    {
     "name": "stdout",
     "output_type": "stream",
     "text": [
      "RankResult(rankdf=\n",
      "                  meanrank     mean       std  ci_lower  ci_upper effect_size  \\\n",
      "ARandomforest        1.890  0.67120  0.031084  0.664183  0.678217         0.0   \n",
      "Randomforest         2.020  0.66930  0.030699  0.662283  0.676317    0.061504   \n",
      "Pruned DT            3.935  0.63875  0.028984  0.631733  0.645767    1.079776   \n",
      "APruned DT           4.045  0.63665  0.033560  0.629633  0.643667    1.068142   \n",
      "AUnpruned DT         5.375  0.61565  0.038715  0.608633  0.622667    1.582294   \n",
      "Unpruned DT          6.015  0.60505  0.031555  0.598033  0.612067    2.112046   \n",
      "ADecision Stumps     6.060  0.60055  0.033521  0.593533  0.607567    2.185565   \n",
      "Decision Stumps      6.660  0.59455  0.032186  0.587533  0.601567    2.422597   \n",
      "\n",
      "                   magnitude  \n",
      "ARandomforest     negligible  \n",
      "Randomforest      negligible  \n",
      "Pruned DT              large  \n",
      "APruned DT             large  \n",
      "AUnpruned DT           large  \n",
      "Unpruned DT            large  \n",
      "ADecision Stumps       large  \n",
      "Decision Stumps        large  \n",
      "pvalue=1.9682912156551077e-126\n",
      "cd=None\n",
      "omnibus=anova\n",
      "posthoc=tukeyhsd\n",
      "all_normal=True\n",
      "pvals_shapiro=[0.2686068117618561, 0.06844109296798706, 0.7191048860549927, 0.03483361378312111, 0.15081565082073212, 0.7534241676330566, 0.17661340534687042, 0.061172328889369965]\n",
      "homoscedastic=True\n",
      "pval_homogeneity=0.14947097665868772\n",
      "homogeneity_test=bartlett\n",
      "alpha=0.05\n",
      "alpha_normality=0.00625\n",
      "num_samples=100\n",
      "posterior_matrix=\n",
      "None\n",
      "decision_matrix=\n",
      "None\n",
      "rope=None\n",
      "rope_mode=None\n",
      "effect_size=cohen_d)\n"
     ]
    },
    {
     "name": "stderr",
     "output_type": "stream",
     "text": [
      "/Users/yezi/opt/anaconda3/envs/venv/lib/python3.9/site-packages/statsmodels/sandbox/stats/multicomp.py:775: UserWarning: FixedFormatter should only be used together with FixedLocator\n",
      "  ax1.set_yticklabels(np.insert(self.groupsunique.astype(str), 0, ''))\n"
     ]
    },
    {
     "data": {
      "text/plain": [
       "<AxesSubplot:title={'center':'95.0% Confidence Intervals of the Mean'}>"
      ]
     },
     "execution_count": 9,
     "metadata": {},
     "output_type": "execute_result"
    },
    {
     "data": {
      "image/png": "[encoded data removed]",
      "text/plain": [
       "<Figure size 432x576 with 1 Axes>"
      ]
     },
     "metadata": {},
     "output_type": "display_data"
    }
   ],
   "source": [
    "# convert the score list to a dataframe\n",
    "df2 = DataFrame(scores_list2, columns=['ARandomforest', 'AUnpruned DT', 'APruned DT', 'ADecision Stumps'])\n",
    "comb_df = pd.concat([df1, df2], axis=1)\n",
    "\n",
    "# using autorank to compare the algorithms\n",
    "result = autorank(comb_df)\n",
    "print(result)\n",
    "plot_stats(result)"
   ]
  },
  {
   "cell_type": "markdown",
   "id": "vertical-ticket",
   "metadata": {},
   "source": [
    "#### Paragraph\n",
    "\n",
    "I combine the result data frames from Task 4 and Task 3 together and using `autorank` to compare these classifiers. The classifiers from Task 4 are named with an 'A' at the head denotes adding the normal additive noise. From the plot of the result, it shows adding the normal additive noise would not lead to any change in the mean rank order of the four classifiers, and no classifiers are performing significantly worse or better on the noise dataset than on the clean dataset as there is overlap between each pair of the classifier (ARandomforest and Randomforest, APruned DT and Pruned DT, AUnpruned DT and Unpruned DT, ADecision Stumps and Decision Stumps). The **Randomforest**, deals well with noisy data because it constructs each decision tree by resampling the original training dataset with replacement and selecting a random subset of predictive variables at each node to grow the tree, which may avoid the noise data. **Pruned Decision Tree** has pruned the unuseful subtrees, which avoid growing the tree too deep down to cover the noise data. However, **Unpruned Decision Tree** has some risk to grow deep down to cover the noise data, and that's why the difference between the rank scores of Unpruned DT for clean dataset and the noisy dataset is biggest in the four classifiers but still not significant. **Decision Stumps** is a one depth tree that also does not affect too much by noisy data. "
   ]
  },
  {
   "cell_type": "markdown",
   "id": "surgical-listing",
   "metadata": {},
   "source": [
    "## Task 5"
   ]
  },
  {
   "cell_type": "markdown",
   "id": "animal-potter",
   "metadata": {},
   "source": [
    "#### Coding"
   ]
  },
  {
   "cell_type": "code",
   "execution_count": 10,
   "id": "hawaiian-associate",
   "metadata": {},
   "outputs": [],
   "source": [
    "## multiplicative normal noise\n",
    "noise = np.random.normal(1, 0.2, np.shape(X_clean))\n",
    "X_noise = np.multiply(X_clean, noise)\n",
    "\n",
    "scores_list3 = []\n",
    "\n",
    "params = [{\n",
    "    'max_depth': np.arange(2, 100), \n",
    "    #'criterion': ['entropy']\n",
    "}]\n",
    "\n",
    "for iteration in range(100):\n",
    "    X_train, X_test, y_train, y_test = train_test_split(X_noise, np.ravel(y), test_size = 0.2, random_state=seeds[iteration])\n",
    "    score_list = []\n",
    "    \n",
    "    # Random Forest\n",
    "    model1 = RandomForestClassifier()\n",
    "    score1 = model1.fit(X_train, y_train).score(X_test, y_test)\n",
    "    score_list.append(score1)\n",
    "\n",
    "    # Unpruned Decision Tree\n",
    "    model2 = DecisionTreeClassifier()\n",
    "    score2 = model2.fit(X_train, y_train).score(X_test, y_test)\n",
    "    score_list.append(score2)\n",
    "\n",
    "    # Pruned Decision Tree\n",
    "    #find the best max_depth by using GridSearchCV\n",
    "    grid_search = GridSearchCV(model2, params, cv = 5)\n",
    "    grid_search.fit(X_train, y_train)\n",
    "    model3 = grid_search.best_estimator_\n",
    "    score3 = model3.fit(X_train, y_train).score(X_test, y_test)\n",
    "    score_list.append(score3)\n",
    "\n",
    "    # Decision Stump\n",
    "    model4 = DecisionTreeClassifier(max_depth=1)\n",
    "    score4 = model4.fit(X_train, y_train).score(X_test, y_test)\n",
    "    score_list.append(score4)\n",
    "\n",
    "    scores_list3.append(score_list)"
   ]
  },
  {
   "cell_type": "code",
   "execution_count": 11,
   "id": "active-empty",
   "metadata": {},
   "outputs": [
    {
     "name": "stdout",
     "output_type": "stream",
     "text": [
      "RankResult(rankdf=\n",
      "                  meanrank  median       mad ci_lower ci_upper effect_size  \\\n",
      "Randomforest         2.020   0.670  0.029652     0.66    0.685         0.0   \n",
      "MRandomforest        2.025   0.670  0.029652    0.655    0.685         0.0   \n",
      "MPruned DT           3.585   0.635  0.029652    0.625     0.66    1.180359   \n",
      "Pruned DT            3.715   0.640  0.029652    0.625     0.65    1.011736   \n",
      "Unpruned DT          5.770   0.605  0.037065    0.585     0.62    1.936611   \n",
      "MUnpruned DT         6.015   0.600  0.033359     0.58    0.615    2.218018   \n",
      "Decision Stumps      6.230   0.595  0.029652    0.585     0.61     2.52934   \n",
      "MDecision Stumps     6.640   0.595  0.029652     0.58    0.605     2.52934   \n",
      "\n",
      "                   magnitude  \n",
      "Randomforest      negligible  \n",
      "MRandomforest     negligible  \n",
      "MPruned DT             large  \n",
      "Pruned DT              large  \n",
      "Unpruned DT            large  \n",
      "MUnpruned DT           large  \n",
      "Decision Stumps        large  \n",
      "MDecision Stumps       large  \n",
      "pvalue=9.222963233831374e-88\n",
      "cd=1.0499208824271116\n",
      "omnibus=friedman\n",
      "posthoc=nemenyi\n",
      "all_normal=False\n",
      "pvals_shapiro=[0.2686068117618561, 0.06844109296798706, 0.7191048860549927, 0.03483361378312111, 0.5148109793663025, 0.207551971077919, 0.6490485668182373, 0.0013113466557115316]\n",
      "homoscedastic=True\n",
      "pval_homogeneity=0.7812748121505817\n",
      "homogeneity_test=levene\n",
      "alpha=0.05\n",
      "alpha_normality=0.00625\n",
      "num_samples=100\n",
      "posterior_matrix=\n",
      "None\n",
      "decision_matrix=\n",
      "None\n",
      "rope=None\n",
      "rope_mode=None\n",
      "effect_size=akinshin_gamma)\n"
     ]
    },
    {
     "data": {
      "text/plain": [
       "<matplotlib.axes._axes.Axes at 0x1457d9f10>"
      ]
     },
     "execution_count": 11,
     "metadata": {},
     "output_type": "execute_result"
    },
    {
     "data": {
      "image/png": "[encoded data removed]",
      "text/plain": [
       "<Figure size 432x154.8 with 1 Axes>"
      ]
     },
     "metadata": {},
     "output_type": "display_data"
    }
   ],
   "source": [
    "# convert the score list to a dataframe\n",
    "df3 = DataFrame(scores_list3,columns=['MRandomforest', 'MUnpruned DT', 'MPruned DT', 'MDecision Stumps'])\n",
    "comb_df = pd.concat([df1, df3], axis=1)\n",
    "\n",
    "# using autorank to compare the algorithms\n",
    "result = autorank(comb_df)\n",
    "print(result)\n",
    "plot_stats(result)"
   ]
  },
  {
   "cell_type": "markdown",
   "id": "revolutionary-christopher",
   "metadata": {},
   "source": [
    "#### Paragraph\n",
    "\n",
    "I combine the result data frames from Task 3 and Task 5 together and using `autorank` to compare these classifiers. The classifiers from Task 5 are named with an 'M' at the head, which denotes adding the normal multiplicative noise. From the plot of the result, it shows adding the normal multiplicative noise would not lead to any change in the mean rank order of the four classifiers, and no classifiers are performing significantly better or worse on the noise dataset than on the clean dataset as there is overlap between each pair of classifiers. However, the classifiers are performing in the opposite direction by adding additive noise and multiplicative noise. As for **Random Forest**, it performs better on the dataset with additive noise but performs worse on the dataset with multiplicative noise than on the clean dataset, while for **Pruned Decision Tree**, it performs worse on the dataset with additive noise but performs better on the dataset with multiplicative noise than on the clean dataset. I think this is because the additive noise is adding random noise to the original value, while the multiplicative noise is calculated by multiplying an unwanted noise to the original value, which changed the original value more and became noisier."
   ]
  },
  {
   "cell_type": "markdown",
   "id": "understood-terminology",
   "metadata": {},
   "source": [
    "## Task 6"
   ]
  },
  {
   "cell_type": "markdown",
   "id": "conditional-cabin",
   "metadata": {},
   "source": [
    "#### Coding"
   ]
  },
  {
   "cell_type": "code",
   "execution_count": 12,
   "id": "dated-television",
   "metadata": {},
   "outputs": [],
   "source": [
    "# label noise\n",
    "flip = np.random.binomial(1, 0.05, y.shape).astype(bool)\n",
    "y_flipped = np.where(flip, 1 - y, y)\n",
    "\n",
    "scores_list4 = []\n",
    "\n",
    "params = [{\n",
    "    'max_depth': np.arange(2, 100), \n",
    "    #'criterion': ['entropy']\n",
    "}]\n",
    "\n",
    "for iteration in range(100):\n",
    "    X_train, X_test, y_train, y_test = train_test_split(X_clean, np.ravel(y_flipped), test_size = 0.2, random_state=seeds[iteration])\n",
    "    score_list = []\n",
    "    \n",
    "    # Random Forest\n",
    "    model1 = RandomForestClassifier()\n",
    "    score1 = model1.fit(X_train, y_train).score(X_test, y_test)\n",
    "    score_list.append(score1)\n",
    "\n",
    "    # Unpruned Decision Tree\n",
    "    model2 = DecisionTreeClassifier()\n",
    "    score2 = model2.fit(X_train, y_train).score(X_test, y_test)\n",
    "    score_list.append(score2)\n",
    "\n",
    "    # Pruned Decision Tree\n",
    "    #find the best max_depth by using GridSearchCV\n",
    "    grid_search = GridSearchCV(model2, params, cv = 5)\n",
    "    grid_search.fit(X_train, y_train)\n",
    "    model3 = grid_search.best_estimator_\n",
    "    score3 = model3.fit(X_train, y_train).score(X_test, y_test)\n",
    "    score_list.append(score3)\n",
    "\n",
    "    # Decision Stump\n",
    "    model4 = DecisionTreeClassifier(max_depth=1)\n",
    "    score4 = model4.fit(X_train, y_train).score(X_test, y_test)\n",
    "    score_list.append(score4)\n",
    "\n",
    "    scores_list4.append(score_list)"
   ]
  },
  {
   "cell_type": "code",
   "execution_count": 13,
   "id": "fresh-style",
   "metadata": {},
   "outputs": [
    {
     "name": "stdout",
     "output_type": "stream",
     "text": [
      "RankResult(rankdf=\n",
      "                  meanrank     mean       std  ci_lower  ci_upper effect_size  \\\n",
      "Randomforest         1.545  0.66930  0.030699  0.662587  0.676013         0.0   \n",
      "CRandomforest        2.600  0.64650  0.031330  0.639787  0.653213    0.735102   \n",
      "Pruned DT            3.110  0.63875  0.028984  0.632037  0.645463    1.023313   \n",
      "CPruned DT           4.975  0.60965  0.033995  0.602937  0.616363    1.841664   \n",
      "Unpruned DT          5.245  0.60505  0.031555  0.598337  0.611763    2.063933   \n",
      "Decision Stumps      5.790  0.59455  0.032186  0.587837  0.601263    2.376707   \n",
      "CDecision Stumps     6.110  0.59195  0.030075  0.585237  0.598663    2.545367   \n",
      "CUnpruned DT         6.625  0.58285  0.030849  0.576137  0.589563    2.809189   \n",
      "\n",
      "                   magnitude  \n",
      "Randomforest      negligible  \n",
      "CRandomforest         medium  \n",
      "Pruned DT              large  \n",
      "CPruned DT             large  \n",
      "Unpruned DT            large  \n",
      "Decision Stumps        large  \n",
      "CDecision Stumps       large  \n",
      "CUnpruned DT           large  \n",
      "pvalue=1.689364689767049e-132\n",
      "cd=None\n",
      "omnibus=anova\n",
      "posthoc=tukeyhsd\n",
      "all_normal=True\n",
      "pvals_shapiro=[0.2686068117618561, 0.06844109296798706, 0.7191048860549927, 0.03483361378312111, 0.533423900604248, 0.8437494039535522, 0.7467595934867859, 0.2208223044872284]\n",
      "homoscedastic=True\n",
      "pval_homogeneity=0.8740942977866996\n",
      "homogeneity_test=bartlett\n",
      "alpha=0.05\n",
      "alpha_normality=0.00625\n",
      "num_samples=100\n",
      "posterior_matrix=\n",
      "None\n",
      "decision_matrix=\n",
      "None\n",
      "rope=None\n",
      "rope_mode=None\n",
      "effect_size=cohen_d)\n"
     ]
    },
    {
     "name": "stderr",
     "output_type": "stream",
     "text": [
      "/Users/yezi/opt/anaconda3/envs/venv/lib/python3.9/site-packages/statsmodels/sandbox/stats/multicomp.py:775: UserWarning: FixedFormatter should only be used together with FixedLocator\n",
      "  ax1.set_yticklabels(np.insert(self.groupsunique.astype(str), 0, ''))\n"
     ]
    },
    {
     "data": {
      "text/plain": [
       "<AxesSubplot:title={'center':'95.0% Confidence Intervals of the Mean'}>"
      ]
     },
     "execution_count": 13,
     "metadata": {},
     "output_type": "execute_result"
    },
    {
     "data": {
      "image/png": "[encoded data removed]",
      "text/plain": [
       "<Figure size 432x576 with 1 Axes>"
      ]
     },
     "metadata": {},
     "output_type": "display_data"
    }
   ],
   "source": [
    "# convert the score list to a dataframe\n",
    "df4 = DataFrame(scores_list4,columns=['CRandomforest', 'CUnpruned DT', 'CPruned DT', 'CDecision Stumps'])\n",
    "comb_df = pd.concat([df1, df4], axis=1)\n",
    "\n",
    "# using autorank to compare the algorithms\n",
    "result = autorank(comb_df)\n",
    "print(result)\n",
    "plot_stats(result)"
   ]
  },
  {
   "cell_type": "markdown",
   "id": "miniature-planning",
   "metadata": {},
   "source": [
    "#### Paragraph\n",
    "\n",
    "I combine the result data frames from Task 3 and Task 6 together and using `autorank` to compare these classifiers. The classifiers from Task 6 are named with a 'C' at the head denotes using the class noise. From the plot of the result, it shows flipping 5% of the labels to the other class changes the mean rank order of **Decision Stumps** to be higher than **Unpruned Decision Tree** and all the classifiers' performance is affected significantly by the class noise except **Decision Stumps** as there is overlapping only between **Decision Stumps** and **CDecision Stumps** classifier pair. All the four classifiers perform worse on the class noise dataset than the clean dataset. I think class noise affects the classifiers differently from feature noise because adding feature noise makes the changes to the value of explanatory variables, but using class noise changes the target value to the opposite value in this binary classification task which affects the accuracy score heavier to the predictive model."
   ]
  },
  {
   "cell_type": "markdown",
   "id": "straight-tsunami",
   "metadata": {},
   "source": [
    "## Task 7"
   ]
  },
  {
   "cell_type": "markdown",
   "id": "drawn-ivory",
   "metadata": {},
   "source": [
    "#### Coding"
   ]
  },
  {
   "cell_type": "code",
   "execution_count": 14,
   "id": "wooden-administrator",
   "metadata": {},
   "outputs": [],
   "source": [
    "scores_list5 = []\n",
    "\n",
    "params = [{\n",
    "    'max_depth': np.arange(2, 100), \n",
    "    #'criterion': ['entropy']\n",
    "}]\n",
    "\n",
    "for iteration in range(100):\n",
    "    # split the clean dataset first\n",
    "    X_train, X_test, y_train, y_test = train_test_split(X_clean, np.ravel(y), test_size = 0.2, random_state=seeds[iteration])\n",
    "    \n",
    "    ## add 20% multiplicative normal noise to the train set\n",
    "    noise = np.random.normal(1, 0.2, np.shape(X_train))\n",
    "    X_noise = np.multiply(X_train, noise)\n",
    "    \n",
    "    score_list = []\n",
    "    \n",
    "    # Random Forest\n",
    "    model1 = RandomForestClassifier()\n",
    "    score1 = model1.fit(X_noise, y_train).score(X_test, y_test)\n",
    "    score_list.append(score1)\n",
    "\n",
    "    # Unpruned Decision Tree\n",
    "    model2 = DecisionTreeClassifier()\n",
    "    score2 = model2.fit(X_noise, y_train).score(X_test, y_test)\n",
    "    score_list.append(score2)\n",
    "\n",
    "    # Pruned Decision Tree\n",
    "    #find the best max_depth by using GridSearchCV\n",
    "    grid_search = GridSearchCV(model2, params, cv = 5)\n",
    "    grid_search.fit(X_noise, y_train)\n",
    "    model3 = grid_search.best_estimator_\n",
    "    score3 = model3.fit(X_noise, y_train).score(X_test, y_test)\n",
    "    score_list.append(score3)\n",
    "\n",
    "    # Decision Stump\n",
    "    model4 = DecisionTreeClassifier(max_depth=1)\n",
    "    score4 = model4.fit(X_noise, y_train).score(X_test, y_test)\n",
    "    score_list.append(score4)\n",
    "\n",
    "    scores_list5.append(score_list)"
   ]
  },
  {
   "cell_type": "code",
   "execution_count": 15,
   "id": "difficult-vault",
   "metadata": {},
   "outputs": [
    {
     "name": "stdout",
     "output_type": "stream",
     "text": [
      "RankResult(rankdf=\n",
      "                      meanrank  median       mad ci_lower ci_upper  \\\n",
      "TrainRandomforest        1.865   0.670  0.029652     0.66    0.685   \n",
      "MRandomforest            2.065   0.670  0.029652    0.655    0.685   \n",
      "MPruned DT               3.635   0.635  0.029652    0.625     0.66   \n",
      "TrainPruned DT           4.125   0.635  0.037065    0.615    0.655   \n",
      "TrainUnpruned DT         5.315   0.610  0.029652    0.595     0.63   \n",
      "MUnpruned DT             6.025   0.600  0.033359     0.58    0.615   \n",
      "TrainDecision Stumps     6.315   0.595  0.037065     0.58     0.61   \n",
      "MDecision Stumps         6.655   0.595  0.029652     0.58    0.605   \n",
      "\n",
      "                     effect_size   magnitude  \n",
      "TrainRandomforest            0.0  negligible  \n",
      "MRandomforest                0.0  negligible  \n",
      "MPruned DT              1.180359       large  \n",
      "TrainPruned DT          1.042791       large  \n",
      "TrainUnpruned DT        2.023472       large  \n",
      "MUnpruned DT            2.218018       large  \n",
      "TrainDecision Stumps    2.234551       large  \n",
      "MDecision Stumps         2.52934       large  \n",
      "pvalue=7.248744051180847e-86\n",
      "cd=1.0499208824271116\n",
      "omnibus=friedman\n",
      "posthoc=nemenyi\n",
      "all_normal=False\n",
      "pvals_shapiro=[0.5148109793663025, 0.207551971077919, 0.6490485668182373, 0.0013113466557115316, 0.01780317910015583, 0.4323934018611908, 0.834395706653595, 0.3595292568206787]\n",
      "homoscedastic=True\n",
      "pval_homogeneity=0.8302745171076381\n",
      "homogeneity_test=levene\n",
      "alpha=0.05\n",
      "alpha_normality=0.00625\n",
      "num_samples=100\n",
      "posterior_matrix=\n",
      "None\n",
      "decision_matrix=\n",
      "None\n",
      "rope=None\n",
      "rope_mode=None\n",
      "effect_size=akinshin_gamma)\n"
     ]
    },
    {
     "data": {
      "text/plain": [
       "<matplotlib.axes._axes.Axes at 0x14594d550>"
      ]
     },
     "execution_count": 15,
     "metadata": {},
     "output_type": "execute_result"
    },
    {
     "data": {
      "image/png": "[encoded data removed]",
      "text/plain": [
       "<Figure size 432x162 with 1 Axes>"
      ]
     },
     "metadata": {},
     "output_type": "display_data"
    }
   ],
   "source": [
    "# convert the score list to a dataframe\n",
    "df5 = DataFrame(scores_list5,columns=['TrainRandomforest', 'TrainUnpruned DT', 'TrainPruned DT', 'TrainDecision Stumps'])\n",
    "comb_df5 = pd.concat([df3, df5], axis=1) #compare adding 20% normal multiplicative noise to the whole set (Task 5) and the training set\n",
    "\n",
    "# using autorank to compare the algorithms\n",
    "result = autorank(comb_df5)\n",
    "print(result)\n",
    "plot_stats(result)"
   ]
  },
  {
   "cell_type": "code",
   "execution_count": 16,
   "id": "apart-infrared",
   "metadata": {},
   "outputs": [],
   "source": [
    "scores_list6 = []\n",
    "\n",
    "params = [{\n",
    "    'max_depth': np.arange(2, 100), \n",
    "    #'criterion': ['entropy']\n",
    "}]\n",
    "\n",
    "for iteration in range(100):\n",
    "    # split the clean dataset first\n",
    "    X_train, X_test, y_train, y_test = train_test_split(X_clean, np.ravel(y), test_size = 0.2, random_state=seeds[iteration])\n",
    "    \n",
    "    ## add 20% multiplicative normal noise to the test set\n",
    "    noise = np.random.normal(1, 0.2, np.shape(X_test))\n",
    "    X_noise = np.multiply(X_test, noise)\n",
    "    \n",
    "    score_list = []\n",
    "    \n",
    "    # Random Forest\n",
    "    model1 = RandomForestClassifier()\n",
    "    score1 = model1.fit(X_train, y_train).score(X_noise, y_test)\n",
    "    score_list.append(score1)\n",
    "\n",
    "    # Unpruned Decision Tree\n",
    "    model2 = DecisionTreeClassifier()\n",
    "    score2 = model2.fit(X_train, y_train).score(X_noise, y_test)\n",
    "    score_list.append(score2)\n",
    "\n",
    "    # Pruned Decision Tree\n",
    "    #find the best max_depth by using GridSearchCV\n",
    "    grid_search = GridSearchCV(model2, params, cv = 5)\n",
    "    grid_search.fit(X_train, y_train)\n",
    "    model3 = grid_search.best_estimator_\n",
    "    score3 = model3.fit(X_train, y_train).score(X_noise, y_test)\n",
    "    score_list.append(score3)\n",
    "\n",
    "    # Decision Stump\n",
    "    model4 = DecisionTreeClassifier(max_depth=1)\n",
    "    score4 = model4.fit(X_train, y_train).score(X_noise, y_test)\n",
    "    score_list.append(score4)\n",
    "\n",
    "    scores_list6.append(score_list)"
   ]
  },
  {
   "cell_type": "code",
   "execution_count": 17,
   "id": "serious-adolescent",
   "metadata": {},
   "outputs": [
    {
     "name": "stdout",
     "output_type": "stream",
     "text": [
      "RankResult(rankdf=\n",
      "                     meanrank  median       mad ci_lower ci_upper effect_size  \\\n",
      "TestRandomforest        1.785  0.6725  0.025946     0.66    0.685         0.0   \n",
      "MRandomforest           2.020  0.6700  0.029652    0.655    0.685    0.089733   \n",
      "MPruned DT              3.630  0.6350  0.029652    0.625     0.66    1.345994   \n",
      "TestPruned DT           4.065  0.6350  0.029652     0.62     0.65    1.345994   \n",
      "TestUnpruned DT         5.445  0.6050  0.029652     0.59    0.625    2.422789   \n",
      "MUnpruned DT            6.030  0.6000  0.033359     0.58    0.615    2.426148   \n",
      "TestDecision Stumps     6.475  0.5925  0.033358     0.58     0.61    2.677129   \n",
      "MDecision Stumps        6.550  0.5950  0.029652     0.58    0.605     2.78172   \n",
      "\n",
      "                      magnitude  \n",
      "TestRandomforest     negligible  \n",
      "MRandomforest        negligible  \n",
      "MPruned DT                large  \n",
      "TestPruned DT             large  \n",
      "TestUnpruned DT           large  \n",
      "MUnpruned DT              large  \n",
      "TestDecision Stumps       large  \n",
      "MDecision Stumps          large  \n",
      "pvalue=5.845130888659882e-90\n",
      "cd=1.0499208824271116\n",
      "omnibus=friedman\n",
      "posthoc=nemenyi\n",
      "all_normal=False\n",
      "pvals_shapiro=[0.5148109793663025, 0.207551971077919, 0.6490485668182373, 0.0013113466557115316, 0.4275650978088379, 0.47470274567604065, 0.6167963147163391, 0.13426345586776733]\n",
      "homoscedastic=True\n",
      "pval_homogeneity=0.9813593580822109\n",
      "homogeneity_test=levene\n",
      "alpha=0.05\n",
      "alpha_normality=0.00625\n",
      "num_samples=100\n",
      "posterior_matrix=\n",
      "None\n",
      "decision_matrix=\n",
      "None\n",
      "rope=None\n",
      "rope_mode=None\n",
      "effect_size=akinshin_gamma)\n"
     ]
    },
    {
     "data": {
      "text/plain": [
       "<matplotlib.axes._axes.Axes at 0x14594ecd0>"
      ]
     },
     "execution_count": 17,
     "metadata": {},
     "output_type": "execute_result"
    },
    {
     "data": {
      "image/png": "[encoded data removed]",
      "text/plain": [
       "<Figure size 432x162 with 1 Axes>"
      ]
     },
     "metadata": {},
     "output_type": "display_data"
    }
   ],
   "source": [
    "# convert the score list to a dataframe\n",
    "df6 = DataFrame(scores_list6,columns=['TestRandomforest', 'TestUnpruned DT', 'TestPruned DT', 'TestDecision Stumps'])\n",
    "comb_df7 = pd.concat([df3, df6], axis = 1)\n",
    "#comb_df6 = pd.concat([comb_df5, df6], axis=1) #compare adding 20% normal multiplicative noise to the whole set (Task 5) and the training set and the test set\n",
    "\n",
    "# using autorank to compare the algorithms\n",
    "result = autorank(comb_df7)\n",
    "print(result)\n",
    "plot_stats(result)"
   ]
  },
  {
   "cell_type": "code",
   "execution_count": 18,
   "id": "manufactured-utility",
   "metadata": {},
   "outputs": [
    {
     "name": "stderr",
     "output_type": "stream",
     "text": [
      "/Users/yezi/opt/anaconda3/envs/venv/lib/python3.9/site-packages/statsmodels/sandbox/stats/multicomp.py:775: UserWarning: FixedFormatter should only be used together with FixedLocator\n",
      "  ax1.set_yticklabels(np.insert(self.groupsunique.astype(str), 0, ''))\n"
     ]
    },
    {
     "data": {
      "text/plain": [
       "<AxesSubplot:title={'center':'95.0% Confidence Intervals of the Mean'}>"
      ]
     },
     "execution_count": 18,
     "metadata": {},
     "output_type": "execute_result"
    },
    {
     "data": {
      "image/png": "[encoded data removed]",
      "text/plain": [
       "<Figure size 432x576 with 1 Axes>"
      ]
     },
     "metadata": {},
     "output_type": "display_data"
    }
   ],
   "source": [
    "comb_df8 = pd.concat([df5, df6], axis = 1) #compare adding noise to training set and to test set\n",
    "\n",
    "# using autorank to compare the algorithms\n",
    "result = autorank(comb_df8)\n",
    "plot_stats(result)"
   ]
  },
  {
   "cell_type": "markdown",
   "id": "professional-revolution",
   "metadata": {},
   "source": [
    "#### Paragraph\n",
    "\n",
    "I combine the result data frames from Task 5 and Task 7 together, which both add 20% normal multiplicative noise to the dataset and use `autorank` to compare these classifiers. The classifiers named with a 'Train' at the head denotes adding noise to the training set, and a 'Test' at the head denotes adding noise to the testing set. From the plots of the result, both of them show adding 20% normal multiplicative noise before and after the training and testing data split does not change the mean rank order of the four classifiers but adding the 20% normal multiplicative noise before the training and testing data split is always worse than adding to the training set or test set after the data split except using **Pruned Decision Tree**, but all are not significant. By comparing the classifiers' performance of adding noise to the training set and the test set, I found **Random Forest** and **Pruned Decision Tree** are performing better on adding 20% multiplicative noise to the test set than add noise to the training set but **Unpruned Decision Tree** and **Decision Stumps** are performing better on adding 20% multiplicative noise to the training set than add noise to the test set; however, these are not statistically significant. "
   ]
  },
  {
   "cell_type": "markdown",
   "id": "stuffed-recommendation",
   "metadata": {},
   "source": [
    "## Task 8"
   ]
  },
  {
   "cell_type": "markdown",
   "id": "boolean-sharing",
   "metadata": {},
   "source": [
    "#### Coding"
   ]
  },
  {
   "cell_type": "code",
   "execution_count": 19,
   "id": "incorporate-concentration",
   "metadata": {},
   "outputs": [
    {
     "name": "stdout",
     "output_type": "stream",
     "text": [
      "   noise  Randomforest  Unpruned DT  Pruned DT  Decision Stumps\n",
      "0      0         0.720        0.625      0.675            0.645\n",
      "1    100         0.615        0.565      0.605            0.565\n",
      "2    200         0.570        0.555      0.590            0.595\n",
      "3    300         0.520        0.495      0.510            0.545\n",
      "4    400         0.530        0.555      0.520            0.470\n",
      "5    500         0.490        0.440      0.495            0.485\n",
      "6    600         0.500        0.505      0.570            0.530\n",
      "7    700         0.520        0.520      0.535            0.525\n",
      "8    800         0.465        0.535      0.500            0.485\n",
      "9    900         0.480        0.520      0.510            0.500\n",
      "   noise  Randomforest  Unpruned DT  Pruned DT  Decision Stumps\n",
      "0      0         0.460        0.460      0.460            0.460\n",
      "1    100         0.495        0.540      0.520            0.450\n",
      "2    200         0.465        0.530      0.495            0.470\n",
      "3    300         0.475        0.485      0.445            0.510\n",
      "4    400         0.485        0.510      0.530            0.490\n",
      "5    500         0.490        0.455      0.460            0.460\n",
      "6    600         0.520        0.495      0.460            0.535\n",
      "7    700         0.490        0.500      0.530            0.480\n",
      "8    800         0.465        0.515      0.500            0.555\n",
      "9    900         0.530        0.510      0.505            0.475\n",
      "    noise  Randomforest  Unpruned DT  Pruned DT  Decision Stumps\n",
      "0     0.0         0.720        0.630      0.675            0.645\n",
      "1     0.1         0.645        0.625      0.685            0.605\n",
      "2     0.2         0.640        0.545      0.580            0.605\n",
      "3     0.3         0.510        0.475      0.495            0.500\n",
      "4     0.4         0.480        0.470      0.490            0.505\n",
      "5     0.5         0.500        0.510      0.500            0.455\n",
      "6     0.6         0.450        0.440      0.435            0.500\n",
      "7     0.7         0.520        0.545      0.480            0.515\n",
      "8     0.8         0.590        0.540      0.585            0.570\n",
      "9     0.9         0.655        0.545      0.625            0.625\n",
      "10    1.0         0.735        0.650      0.700            0.645\n"
     ]
    }
   ],
   "source": [
    "def score(X, y):\n",
    "    #for iteration in range(10):\n",
    "    X_train, X_test, y_train, y_test = train_test_split(X, np.ravel(y), test_size = 0.2, random_state=seeds[0])\n",
    "    \n",
    "    # Random Forest\n",
    "    model1 = RandomForestClassifier()\n",
    "    score1 = model1.fit(X_train, y_train).score(X_test, y_test)\n",
    "        #scoreRF += score1\n",
    "\n",
    "    # Unpruned Decision Tree\n",
    "    model2 = DecisionTreeClassifier()\n",
    "    score2 = model2.fit(X_train, y_train).score(X_test, y_test)\n",
    "        #scoreUDT += score2\n",
    "\n",
    "    # Pruned Decision Tree\n",
    "    #find the best max_depth by using GridSearchCV\n",
    "    params = [{\n",
    "        'max_depth': np.arange(2, 100), \n",
    "        #'criterion': ['entropy']\n",
    "    }]\n",
    "    grid_search = GridSearchCV(model2, params, cv = 5)\n",
    "    grid_search.fit(X_train, y_train)\n",
    "    model3 = grid_search.best_estimator_\n",
    "    score3 = model3.fit(X_train, y_train).score(X_test, y_test)\n",
    "        #scorePDT += score3\n",
    "\n",
    "    # Decision Stump\n",
    "    model4 = DecisionTreeClassifier(max_depth=1)\n",
    "    score4 = model4.fit(X_train, y_train).score(X_test, y_test)\n",
    "        #scoreDS += score4\n",
    "    \n",
    "    return(score1, score2, score3, score4)\n",
    "\n",
    "Add_lists = [] # additive normal noise result\n",
    "Mul_lists = [] # multiplicative normal noise result\n",
    "Cla_lists = [] # class noise result\n",
    "\n",
    "for i in np.arange(0,1000,100):\n",
    "    Add_list = [i]\n",
    "    Mul_list = [i]\n",
    "    \n",
    "    noise = np.random.normal(0, i, np.shape(X_clean))\n",
    "    # raise or lower the percentage of additive noise.\n",
    "    X_addnoise = X_clean + np.multiply(noise, np.average(X_clean, axis = 0))\n",
    "    RF, UDT, PDT, DS = score(X_addnoise, y)\n",
    "    Add_list.append(RF)\n",
    "    Add_list.append(UDT)\n",
    "    Add_list.append(PDT)\n",
    "    Add_list.append(DS)\n",
    "    \n",
    "    Add_lists.append(Add_list)\n",
    "    \n",
    "    # raise or lower the percentage of multiplicative noise.\n",
    "    X_mulnoise = np.multiply(X_clean, noise)\n",
    "    RF, UDT, PDT, DS = score(X_mulnoise, y)\n",
    "    Mul_list.append(RF)\n",
    "    Mul_list.append(UDT)\n",
    "    Mul_list.append(PDT)\n",
    "    Mul_list.append(DS)\n",
    "    \n",
    "    Mul_lists.append(Mul_list)\n",
    "\n",
    "for i in np.arange(0,1.1,0.1):\n",
    "    Cla_list = [i]\n",
    "    \n",
    "    # raise or lower the percentage of class noise.\n",
    "    flip = np.random.binomial(1, i, y.shape).astype(bool)\n",
    "    y_flipped = np.where(flip, 1-y, y)\n",
    "    \n",
    "    RF, UDT, PDT, DS = score(X_clean, y_flipped)\n",
    "    Cla_list.append(RF)\n",
    "    Cla_list.append(UDT)\n",
    "    Cla_list.append(PDT)\n",
    "    Cla_list.append(DS)\n",
    "    \n",
    "    Cla_lists.append(Cla_list)\n",
    "    \n",
    "\n",
    "Add_df = DataFrame(Add_lists,columns=['noise', 'Randomforest', 'Unpruned DT', 'Pruned DT', 'Decision Stumps'])\n",
    "print(Add_df)\n",
    "\n",
    "Mul_df = DataFrame(Mul_lists,columns=['noise', 'Randomforest', 'Unpruned DT', 'Pruned DT', 'Decision Stumps'])\n",
    "print(Mul_df)\n",
    "\n",
    "Cla_df = DataFrame(Cla_lists,columns=['noise', 'Randomforest', 'Unpruned DT', 'Pruned DT', 'Decision Stumps'])\n",
    "print(Cla_df)"
   ]
  },
  {
   "cell_type": "markdown",
   "id": "amber-postage",
   "metadata": {},
   "source": [
    "#### Paragraph\n",
    "\n",
    "I have tried applying the size from range 0% to 100000% with a step size of 10000% to normal additive noise and normal multiplicative noise to the features in the clean dataset and output the accuracy score as data frames. Assume the classifier can tolerate an accuracy score higher than 50% and start to break when the accuracy score is lower than 50%. From the data frames, I found **Random Forest** and **Pruned Decision Tree** classifiers can tolerate 40000% normal additive noise and start to break at 50000%, but **Unpruned Decision Tree** classifier can tolerate 20000% normal additive noise and start to break at 30000% and **Decision Stumps** can tolerate 30000% and start to break at 40000%. All the classifiers start to break at 0% normal multiplicative noise. I have also tried applying 0% to 100% flip of the class label in the clean dataset and output the accuracy score as another data frame. I found **Random Forest** can tolerate 30% class noise and start to break at 40% but **Unpruned Decision Tree** and **Pruned Decision Tree** can only tolerate 20% class noise and start to break at 30%. **Decision Stumps** can tolerate 40% class noise and start to break at 50%."
   ]
  },
  {
   "cell_type": "markdown",
   "id": "portuguese-yugoslavia",
   "metadata": {},
   "source": [
    "## EOF"
   ]
  }
 ],
 "metadata": {
  "kernelspec": {
   "display_name": "Python 3",
   "language": "python",
   "name": "python3"
  },
  "language_info": {
   "codemirror_mode": {
    "name": "ipython",
    "version": 3
   },
   "file_extension": ".py",
   "mimetype": "text/x-python",
   "name": "python",
   "nbconvert_exporter": "python",
   "pygments_lexer": "ipython3",
   "version": "3.9.2"
  }
 },
 "nbformat": 4,
 "nbformat_minor": 5
}
